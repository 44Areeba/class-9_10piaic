{
 "cells": [
  {
   "cell_type": "code",
   "execution_count": 5,
   "id": "32c26608",
   "metadata": {},
   "outputs": [],
   "source": [
    "#defining class\n",
    "class Student():\n",
    "    pass"
   ]
  },
  {
   "cell_type": "code",
   "execution_count": 6,
   "id": "ac0fd2be",
   "metadata": {},
   "outputs": [],
   "source": [
    "#object creation \n",
    "student1=Student()"
   ]
  },
  {
   "cell_type": "code",
   "execution_count": 7,
   "id": "8e9b808e",
   "metadata": {},
   "outputs": [],
   "source": [
    "#object creation\n",
    "student2=Student()\n"
   ]
  },
  {
   "cell_type": "code",
   "execution_count": 8,
   "id": "1bf443b0",
   "metadata": {},
   "outputs": [],
   "source": [
    "class Student():\n",
    "    name=\"Areeba\"\n",
    "    gender =\"female\"\n",
    "    age=\"16\"\n",
    "    course=\"AI\"\n",
    "    roll=123\n",
    "    institue=\"SSUET\"\n",
    "    "
   ]
  },
  {
   "cell_type": "code",
   "execution_count": 9,
   "id": "66dbef75",
   "metadata": {},
   "outputs": [],
   "source": [
    "student1=Student()"
   ]
  },
  {
   "cell_type": "code",
   "execution_count": 10,
   "id": "d7559bcf",
   "metadata": {},
   "outputs": [
    {
     "data": {
      "text/plain": [
       "'Areeba'"
      ]
     },
     "execution_count": 10,
     "metadata": {},
     "output_type": "execute_result"
    }
   ],
   "source": [
    "student1.name"
   ]
  },
  {
   "cell_type": "code",
   "execution_count": 11,
   "id": "20847cc1",
   "metadata": {},
   "outputs": [
    {
     "data": {
      "text/plain": [
       "'female'"
      ]
     },
     "execution_count": 11,
     "metadata": {},
     "output_type": "execute_result"
    }
   ],
   "source": [
    "student1.gender"
   ]
  },
  {
   "cell_type": "code",
   "execution_count": 12,
   "id": "4141851a",
   "metadata": {},
   "outputs": [
    {
     "data": {
      "text/plain": [
       "'AI'"
      ]
     },
     "execution_count": 12,
     "metadata": {},
     "output_type": "execute_result"
    }
   ],
   "source": [
    "student1.course"
   ]
  },
  {
   "cell_type": "code",
   "execution_count": 13,
   "id": "dfc5e9ef",
   "metadata": {},
   "outputs": [],
   "source": [
    "class Student():\n",
    "    def __init__(self,name,roll,course,centre):\n",
    "        #Attribute\n",
    "        self.name=name\n",
    "        self.roll=roll\n",
    "        self.course=course\n",
    "        self.centre=centre\n",
    "        "
   ]
  },
  {
   "cell_type": "code",
   "execution_count": 14,
   "id": "20f0c404",
   "metadata": {},
   "outputs": [],
   "source": [
    "s1=Student(\"Ali\",123,\"Ai\",\"SSUET\")"
   ]
  },
  {
   "cell_type": "code",
   "execution_count": 15,
   "id": "9477a8aa",
   "metadata": {},
   "outputs": [
    {
     "data": {
      "text/plain": [
       "'Ali'"
      ]
     },
     "execution_count": 15,
     "metadata": {},
     "output_type": "execute_result"
    }
   ],
   "source": [
    "s1.name"
   ]
  },
  {
   "cell_type": "code",
   "execution_count": 16,
   "id": "59c8ac64",
   "metadata": {},
   "outputs": [],
   "source": [
    "s2=Student(\"Sana\",\"124\",\"AI\",\"SSUET\")"
   ]
  },
  {
   "cell_type": "code",
   "execution_count": 17,
   "id": "d5052415",
   "metadata": {},
   "outputs": [
    {
     "data": {
      "text/plain": [
       "'Sana'"
      ]
     },
     "execution_count": 17,
     "metadata": {},
     "output_type": "execute_result"
    }
   ],
   "source": [
    "s2.name"
   ]
  },
  {
   "cell_type": "code",
   "execution_count": 18,
   "id": "38da9b24",
   "metadata": {},
   "outputs": [
    {
     "data": {
      "text/plain": [
       "'Ali'"
      ]
     },
     "execution_count": 18,
     "metadata": {},
     "output_type": "execute_result"
    }
   ],
   "source": [
    "s1.name"
   ]
  },
  {
   "cell_type": "code",
   "execution_count": 31,
   "id": "0a5fa5ef",
   "metadata": {},
   "outputs": [
    {
     "data": {
      "text/plain": [
       "'AI'"
      ]
     },
     "execution_count": 31,
     "metadata": {},
     "output_type": "execute_result"
    }
   ],
   "source": [
    "s2.course"
   ]
  },
  {
   "cell_type": "code",
   "execution_count": 19,
   "id": "7882355e",
   "metadata": {},
   "outputs": [],
   "source": [
    "a=int(10)"
   ]
  },
  {
   "cell_type": "code",
   "execution_count": 20,
   "id": "f0a6298c",
   "metadata": {},
   "outputs": [
    {
     "name": "stdout",
     "output_type": "stream",
     "text": [
      "<class 'int'>\n"
     ]
    }
   ],
   "source": [
    "print(type(a))"
   ]
  },
  {
   "cell_type": "code",
   "execution_count": 21,
   "id": "1e9dc48f",
   "metadata": {},
   "outputs": [
    {
     "name": "stdout",
     "output_type": "stream",
     "text": [
      "<class '__main__.Student'>\n"
     ]
    }
   ],
   "source": [
    "print(type(s1))"
   ]
  },
  {
   "cell_type": "code",
   "execution_count": 25,
   "id": "5ac0cf2e",
   "metadata": {},
   "outputs": [],
   "source": [
    "class Student():\n",
    "    def __init__(self,name,roll,course,centre):\n",
    "        #Attributes/characteristics/ variables\n",
    "        self.name = name\n",
    "        self.roll = roll\n",
    "        self.course = course\n",
    "        self.centre = centre\n",
    "    #behaviours /functionalities / methods\n",
    "    \n",
    "    def appearExam(self):\n",
    "        print(f\"{self.name} is sitting in exam\")\n",
    "    \n",
    "    \n",
    "    def studentProfile(self):\n",
    "        print(f\"\"\"\n",
    "               Student Profile\n",
    "               _______________\n",
    "               Name: {self.name}\n",
    "               Roll Number : {self.roll}\n",
    "               Course: {self.course}\n",
    "               Centre:{self.centre}\"\"\")\n",
    "        "
   ]
  },
  {
   "cell_type": "code",
   "execution_count": 26,
   "id": "d0814870",
   "metadata": {},
   "outputs": [],
   "source": [
    "s4=Student(\"Fahad\",111,\"web\",\"ssuet\")"
   ]
  },
  {
   "cell_type": "code",
   "execution_count": 27,
   "id": "50953665",
   "metadata": {},
   "outputs": [
    {
     "data": {
      "text/plain": [
       "'Fahad'"
      ]
     },
     "execution_count": 27,
     "metadata": {},
     "output_type": "execute_result"
    }
   ],
   "source": [
    "s4.name"
   ]
  },
  {
   "cell_type": "markdown",
   "id": "8004a4ed",
   "metadata": {},
   "source": [
    "s4.rollnum"
   ]
  },
  {
   "cell_type": "code",
   "execution_count": 28,
   "id": "99148c18",
   "metadata": {},
   "outputs": [
    {
     "data": {
      "text/plain": [
       "111"
      ]
     },
     "execution_count": 28,
     "metadata": {},
     "output_type": "execute_result"
    }
   ],
   "source": [
    "s4.roll"
   ]
  },
  {
   "cell_type": "code",
   "execution_count": 29,
   "id": "d55246c4",
   "metadata": {},
   "outputs": [
    {
     "data": {
      "text/plain": [
       "'web'"
      ]
     },
     "execution_count": 29,
     "metadata": {},
     "output_type": "execute_result"
    }
   ],
   "source": [
    "s4.course"
   ]
  },
  {
   "cell_type": "code",
   "execution_count": 30,
   "id": "2dbc249d",
   "metadata": {},
   "outputs": [
    {
     "name": "stdout",
     "output_type": "stream",
     "text": [
      "Fahad is sitting in exam\n"
     ]
    }
   ],
   "source": [
    "s4.appearExam()"
   ]
  },
  {
   "cell_type": "code",
   "execution_count": 32,
   "id": "8671efa0",
   "metadata": {},
   "outputs": [],
   "source": [
    "s5=Student(\"Nasir\",123,\"AI\",\"SSUET\")"
   ]
  },
  {
   "cell_type": "code",
   "execution_count": 33,
   "id": "3494ef5c",
   "metadata": {},
   "outputs": [
    {
     "name": "stdout",
     "output_type": "stream",
     "text": [
      "Nasir is sitting in exam\n"
     ]
    }
   ],
   "source": [
    "s5.appearExam()"
   ]
  },
  {
   "cell_type": "code",
   "execution_count": 34,
   "id": "a84920a6",
   "metadata": {},
   "outputs": [
    {
     "data": {
      "text/plain": [
       "123"
      ]
     },
     "execution_count": 34,
     "metadata": {},
     "output_type": "execute_result"
    }
   ],
   "source": [
    "s5.roll"
   ]
  },
  {
   "cell_type": "code",
   "execution_count": 35,
   "id": "95c7a7da",
   "metadata": {},
   "outputs": [
    {
     "data": {
      "text/plain": [
       "'AI'"
      ]
     },
     "execution_count": 35,
     "metadata": {},
     "output_type": "execute_result"
    }
   ],
   "source": [
    "s5.course"
   ]
  },
  {
   "cell_type": "code",
   "execution_count": 36,
   "id": "90013624",
   "metadata": {},
   "outputs": [
    {
     "name": "stdout",
     "output_type": "stream",
     "text": [
      "\n",
      "               Student Profile\n",
      "               _______________\n",
      "               Name: Fahad\n",
      "               Roll Number : 111\n",
      "               Course: web\n",
      "               Centre:ssuet\n"
     ]
    }
   ],
   "source": [
    "s4.studentProfile()"
   ]
  },
  {
   "cell_type": "code",
   "execution_count": 37,
   "id": "cdeb99e3",
   "metadata": {},
   "outputs": [
    {
     "name": "stdout",
     "output_type": "stream",
     "text": [
      "\n",
      "               Student Profile\n",
      "               _______________\n",
      "               Name: Nasir\n",
      "               Roll Number : 123\n",
      "               Course: AI\n",
      "               Centre:SSUET\n"
     ]
    }
   ],
   "source": [
    "s5.studentProfile()"
   ]
  },
  {
   "cell_type": "code",
   "execution_count": 46,
   "id": "713b3f37",
   "metadata": {},
   "outputs": [],
   "source": [
    "\n",
    " class Student():\n",
    "    # class sttribute\n",
    "    centre = \"SSUET\"\n",
    "    course = \"Python\"\n",
    "    \n",
    "    #instance attributes /methods\n",
    "    def __init__(self,name,roll):\n",
    "        #Attributes/characteristics/ variables\n",
    "        self.name = name\n",
    "        self.roll = roll\n",
    "        \n",
    "    #behaviours /functionalities / methods\n",
    "    \n",
    "    def appearExam(self,attendance,feesPaid):\n",
    "        if attendance >=70:\n",
    "            if feesPaid:\n",
    "                print(f\"{self.name} is allowed to sit in exam\")\n",
    "            else:\n",
    "                print(f\"{self.name} is not allowed to sit in exam\")\n",
    "            \n",
    "        else:\n",
    "            print(f\"{self.name} is not allowed to sit in exam\")\n",
    "    \n",
    "    \n",
    "    def studentProfile(self):\n",
    "        print(f\"\"\"\n",
    "               Student Profile\n",
    "               _______________\n",
    "               Name: {self.name}\n",
    "               Roll Number : {self.roll}\n",
    "               Course: {Student.course}\n",
    "               Centre:{Student.centre}\"\"\")\n",
    "        \n",
    "        "
   ]
  },
  {
   "cell_type": "code",
   "execution_count": 51,
   "id": "d0ea545f",
   "metadata": {},
   "outputs": [],
   "source": [
    "s6=Student(\"Kiran\",111)"
   ]
  },
  {
   "cell_type": "code",
   "execution_count": 53,
   "id": "7ff2cc84",
   "metadata": {},
   "outputs": [
    {
     "name": "stdout",
     "output_type": "stream",
     "text": [
      "\n",
      "              Student Profile\n",
      "              _______________\n",
      "              Name: Kiran\n",
      "              Roll Number : 111\n",
      "              Course: Python\n",
      "              Centre:SSUET\n"
     ]
    }
   ],
   "source": [
    "s6.studentProfile()"
   ]
  },
  {
   "cell_type": "code",
   "execution_count": 55,
   "id": "fdb033dd",
   "metadata": {},
   "outputs": [
    {
     "ename": "TypeError",
     "evalue": "appearExam() missing 2 required positional arguments: 'attendance' and 'feesPaid'",
     "output_type": "error",
     "traceback": [
      "\u001b[1;31m---------------------------------------------------------------------------\u001b[0m",
      "\u001b[1;31mTypeError\u001b[0m                                 Traceback (most recent call last)",
      "\u001b[1;32m<ipython-input-55-752a985ddba3>\u001b[0m in \u001b[0;36m<module>\u001b[1;34m\u001b[0m\n\u001b[1;32m----> 1\u001b[1;33m \u001b[0ms6\u001b[0m\u001b[1;33m.\u001b[0m\u001b[0mappearExam\u001b[0m\u001b[1;33m(\u001b[0m\u001b[1;33m)\u001b[0m\u001b[1;33m\u001b[0m\u001b[1;33m\u001b[0m\u001b[0m\n\u001b[0m",
      "\u001b[1;31mTypeError\u001b[0m: appearExam() missing 2 required positional arguments: 'attendance' and 'feesPaid'"
     ]
    }
   ],
   "source": [
    "s6.appearExam()"
   ]
  },
  {
   "cell_type": "markdown",
   "id": "69e5ef31",
   "metadata": {},
   "source": [
    "s6.studentProfile()"
   ]
  },
  {
   "cell_type": "code",
   "execution_count": 69,
   "id": "5849d230",
   "metadata": {},
   "outputs": [],
   "source": [
    "class Student():\n",
    "    # class sttribute\n",
    "    centre = \"SSUET\"\n",
    "    course = \"Python\"\n",
    "    \n",
    "    #instance attributes /methods\n",
    "    def __init__(self,name,roll):\n",
    "        #Attributes/characteristics/ variables\n",
    "        self.name = name\n",
    "        self.roll = roll\n",
    "        \n",
    "    #behaviours /functionalities / methods\n",
    "    \n",
    "    def appearExam(self,attendance,feesPaid):\n",
    "        if attendance >=70:\n",
    "            if feesPaid:\n",
    "                print(f\"{self.name} is allowed to sit in exam\")\n",
    "            else:\n",
    "                print(f\"{self.name} is not allowed to sit in exam\")\n",
    "            \n",
    "        else:\n",
    "            print(f\"{self.name} is not allowed to sit in exam\")\n",
    "    \n",
    "    \n",
    "    def studentProfile(self):\n",
    "        print(f\"\"\"\n",
    "               Student Profile\n",
    "               _______________\n",
    "               Name: {self.name}\n",
    "               Roll Number : {self.roll}\n",
    "               Course: {Student.course}\n",
    "               Centre:{Student.centre}\"\"\")\n",
    "        "
   ]
  },
  {
   "cell_type": "code",
   "execution_count": 71,
   "id": "1923d99d",
   "metadata": {},
   "outputs": [],
   "source": [
    "s6 = Student(\"Kiran\",111)"
   ]
  },
  {
   "cell_type": "code",
   "execution_count": 72,
   "id": "37a72164",
   "metadata": {},
   "outputs": [
    {
     "name": "stdout",
     "output_type": "stream",
     "text": [
      "\n",
      "               Student Profile\n",
      "               _______________\n",
      "               Name: Kiran\n",
      "               Roll Number : 111\n",
      "               Course: Python\n",
      "               Centre:SSUET\n"
     ]
    }
   ],
   "source": [
    "s6.studentProfile()"
   ]
  },
  {
   "cell_type": "code",
   "execution_count": 73,
   "id": "51ea131d",
   "metadata": {},
   "outputs": [
    {
     "ename": "TypeError",
     "evalue": "appearExam() missing 2 required positional arguments: 'attendance' and 'feesPaid'",
     "output_type": "error",
     "traceback": [
      "\u001b[1;31m---------------------------------------------------------------------------\u001b[0m",
      "\u001b[1;31mTypeError\u001b[0m                                 Traceback (most recent call last)",
      "\u001b[1;32m<ipython-input-73-752a985ddba3>\u001b[0m in \u001b[0;36m<module>\u001b[1;34m\u001b[0m\n\u001b[1;32m----> 1\u001b[1;33m \u001b[0ms6\u001b[0m\u001b[1;33m.\u001b[0m\u001b[0mappearExam\u001b[0m\u001b[1;33m(\u001b[0m\u001b[1;33m)\u001b[0m\u001b[1;33m\u001b[0m\u001b[1;33m\u001b[0m\u001b[0m\n\u001b[0m",
      "\u001b[1;31mTypeError\u001b[0m: appearExam() missing 2 required positional arguments: 'attendance' and 'feesPaid'"
     ]
    }
   ],
   "source": [
    "s6.appearExam()"
   ]
  },
  {
   "cell_type": "code",
   "execution_count": 56,
   "id": "97d0e6e3",
   "metadata": {},
   "outputs": [
    {
     "name": "stdout",
     "output_type": "stream",
     "text": [
      "Kiran is not allowed to sit in exam\n"
     ]
    }
   ],
   "source": [
    "s6.appearExam(56,True)"
   ]
  },
  {
   "cell_type": "code",
   "execution_count": 57,
   "id": "9a5bdd9a",
   "metadata": {},
   "outputs": [
    {
     "name": "stdout",
     "output_type": "stream",
     "text": [
      "Kiran is allowed to sit in exam\n"
     ]
    }
   ],
   "source": [
    "s6.appearExam(77,True)"
   ]
  },
  {
   "cell_type": "code",
   "execution_count": 58,
   "id": "f4d20a09",
   "metadata": {},
   "outputs": [
    {
     "name": "stdout",
     "output_type": "stream",
     "text": [
      "Kiran is not allowed to sit in exam\n"
     ]
    }
   ],
   "source": [
    "s6.appearExam(86,False)"
   ]
  },
  {
   "cell_type": "code",
   "execution_count": 59,
   "id": "7ba8c484",
   "metadata": {},
   "outputs": [],
   "source": [
    "#Asssigning default values to attributes\n",
    "class Car():\n",
    "    def __init__(self,make,model,color,engine,wheels=4):\n",
    "        self.make=make\n",
    "        self.model=model\n",
    "        self.color=color\n",
    "        self.engine=engine\n",
    "        self.wheels=4"
   ]
  },
  {
   "cell_type": "code",
   "execution_count": 64,
   "id": "800f3560",
   "metadata": {},
   "outputs": [
    {
     "data": {
      "text/plain": [
       "'Kiran'"
      ]
     },
     "execution_count": 64,
     "metadata": {},
     "output_type": "execute_result"
    }
   ],
   "source": [
    "s6.name"
   ]
  },
  {
   "cell_type": "code",
   "execution_count": 65,
   "id": "8727f242",
   "metadata": {},
   "outputs": [],
   "source": [
    "s6.name=\"Kamran\""
   ]
  },
  {
   "cell_type": "code",
   "execution_count": 66,
   "id": "ef74b450",
   "metadata": {},
   "outputs": [
    {
     "data": {
      "text/plain": [
       "'Kamran'"
      ]
     },
     "execution_count": 66,
     "metadata": {},
     "output_type": "execute_result"
    }
   ],
   "source": [
    "s6.name"
   ]
  },
  {
   "cell_type": "code",
   "execution_count": 67,
   "id": "7217ebc4",
   "metadata": {},
   "outputs": [
    {
     "data": {
      "text/plain": [
       "'Python'"
      ]
     },
     "execution_count": 67,
     "metadata": {},
     "output_type": "execute_result"
    }
   ],
   "source": [
    "Student.course"
   ]
  },
  {
   "cell_type": "code",
   "execution_count": 68,
   "id": "0fda6748",
   "metadata": {},
   "outputs": [],
   "source": [
    "Student.course=\"Pandas\""
   ]
  },
  {
   "cell_type": "code",
   "execution_count": 69,
   "id": "60ba27de",
   "metadata": {},
   "outputs": [
    {
     "name": "stdout",
     "output_type": "stream",
     "text": [
      "\n",
      "              Student Profile\n",
      "              _______________\n",
      "              Name: Kamran\n",
      "              Roll Number : 111\n",
      "              Course: Pandas\n",
      "              Centre:SSUET\n"
     ]
    }
   ],
   "source": [
    "s6.studentProfile()"
   ]
  },
  {
   "cell_type": "code",
   "execution_count": 70,
   "id": "4ee06a1c",
   "metadata": {},
   "outputs": [],
   "source": [
    "s6.name='Kashif'"
   ]
  },
  {
   "cell_type": "code",
   "execution_count": 71,
   "id": "93e9b983",
   "metadata": {},
   "outputs": [
    {
     "data": {
      "text/plain": [
       "'Kashif'"
      ]
     },
     "execution_count": 71,
     "metadata": {},
     "output_type": "execute_result"
    }
   ],
   "source": [
    "s6.name"
   ]
  },
  {
   "cell_type": "code",
   "execution_count": 80,
   "id": "2568a016",
   "metadata": {},
   "outputs": [],
   "source": [
    "#Getter and Setters\n",
    "\n",
    "class Student():\n",
    "    def __init__(self,name,roll,course,centre):\n",
    "        #Attribute / charcteristics /variables\n",
    "        self.name=name\n",
    "        self.roll=roll\n",
    "        self.course=course\n",
    "        self.centre=centre\n",
    "        \n",
    "        #behaviour/functionalitis /Methods\n",
    "        def appearExam(self):\n",
    "            print(f\"{self.name}is sitting in Exam\")\n",
    "        def studentProfile(self):\n",
    "            print(f\"\"\"\n",
    "            _____________\n",
    "            Student Profile\n",
    "            Name:{self.name}\n",
    "            Roll Number:{self.roll}\n",
    "            Course:{self.course}\n",
    "            Centre:{self.centre}\n",
    "            \"\"\")\n",
    "            \n",
    "        def getName(self):\n",
    "            print(f\"The student name is {self.name}\")\n",
    "        def setName(self, newName):\n",
    "            self.name=newName\n",
    "        \n",
    "        \n"
   ]
  },
  {
   "cell_type": "code",
   "execution_count": 81,
   "id": "8655d11c",
   "metadata": {},
   "outputs": [],
   "source": [
    "s7=Student(\"Hamid\",\"4444\",\"AI\",\"SSUET\")"
   ]
  },
  {
   "cell_type": "code",
   "execution_count": 82,
   "id": "4c432c85",
   "metadata": {},
   "outputs": [
    {
     "ename": "AttributeError",
     "evalue": "'Student' object has no attribute 'getName'",
     "output_type": "error",
     "traceback": [
      "\u001b[1;31m---------------------------------------------------------------------------\u001b[0m",
      "\u001b[1;31mAttributeError\u001b[0m                            Traceback (most recent call last)",
      "\u001b[1;32m<ipython-input-82-ba3d7d49ef55>\u001b[0m in \u001b[0;36m<module>\u001b[1;34m\u001b[0m\n\u001b[1;32m----> 1\u001b[1;33m \u001b[0ms7\u001b[0m\u001b[1;33m.\u001b[0m\u001b[0mgetName\u001b[0m\u001b[1;33m(\u001b[0m\u001b[1;33m)\u001b[0m\u001b[1;33m\u001b[0m\u001b[1;33m\u001b[0m\u001b[0m\n\u001b[0m",
      "\u001b[1;31mAttributeError\u001b[0m: 'Student' object has no attribute 'getName'"
     ]
    }
   ],
   "source": [
    "s7.getName()"
   ]
  },
  {
   "cell_type": "code",
   "execution_count": 87,
   "id": "3b6ecc68",
   "metadata": {},
   "outputs": [],
   "source": [
    "class Student():\n",
    "    def __init__(self,name,roll,course,centre):\n",
    "        #Attributes/characteristics/ variables\n",
    "        self.name = name\n",
    "        self.roll = roll\n",
    "        self.course = course\n",
    "        self.centre = centre\n",
    "    #behaviours /functionalities / methods\n",
    "    \n",
    "    def appearExam(self):\n",
    "        print(f\"{self.name} is sitting in exam\")\n",
    "    \n",
    "    \n",
    "    def studentProfile(self):\n",
    "        print(f\"\"\"\n",
    "               Student Profile\n",
    "               _______________\n",
    "               Name: {self.name}\n",
    "               Roll Number : {self.roll}\n",
    "               Course: {self.course}\n",
    "               Centre:{self.centre}\"\"\")\n",
    "    \n",
    "    def getName(self):\n",
    "        print(f\"The student name is {self.name}\")\n",
    "    \n",
    "    def setName(self, newName):\n",
    "        self.name = newName\n",
    "        "
   ]
  },
  {
   "cell_type": "code",
   "execution_count": 88,
   "id": "2fc8a3aa",
   "metadata": {},
   "outputs": [],
   "source": [
    "s7=Student('Hamid',\"4444\",\"AI\",\"SSUET\")"
   ]
  },
  {
   "cell_type": "code",
   "execution_count": 89,
   "id": "90890caa",
   "metadata": {},
   "outputs": [
    {
     "name": "stdout",
     "output_type": "stream",
     "text": [
      "The student name is Hamid\n"
     ]
    }
   ],
   "source": [
    "s7.getName()"
   ]
  },
  {
   "cell_type": "code",
   "execution_count": 90,
   "id": "6b1e1c19",
   "metadata": {},
   "outputs": [],
   "source": [
    "s7.setName(\"Kashif\")"
   ]
  },
  {
   "cell_type": "markdown",
   "id": "92f20edc",
   "metadata": {},
   "source": [
    "s7.getName()"
   ]
  },
  {
   "cell_type": "code",
   "execution_count": 91,
   "id": "b9d3fa50",
   "metadata": {},
   "outputs": [
    {
     "name": "stdout",
     "output_type": "stream",
     "text": [
      "The student name is Kashif\n"
     ]
    }
   ],
   "source": [
    "s7.getName()"
   ]
  },
  {
   "cell_type": "code",
   "execution_count": 95,
   "id": "e629891e",
   "metadata": {},
   "outputs": [
    {
     "ename": "SyntaxError",
     "evalue": "invalid syntax (<ipython-input-95-6462dfc6d9ea>, line 7)",
     "output_type": "error",
     "traceback": [
      "\u001b[1;36m  File \u001b[1;32m\"<ipython-input-95-6462dfc6d9ea>\"\u001b[1;36m, line \u001b[1;32m7\u001b[0m\n\u001b[1;33m    return distance\u001b[0m\n\u001b[1;37m    ^\u001b[0m\n\u001b[1;31mSyntaxError\u001b[0m\u001b[1;31m:\u001b[0m invalid syntax\n"
     ]
    }
   ],
   "source": [
    "class Line():\n",
    "    def __init__(self,x1,y1,x2,y2):\n",
    "        self.point_a(x1,y1)\n",
    "        self.point_b(x2,y2)\n",
    "    def _length(self):\n",
    "        distance=((self.point_b-self.point_a[0]**2+(self.point_b[1]-self.point_a[1]**2)**0.5\n",
    "        return distance\n",
    "    def slope(self): \n",
    "                   m=(self.point_b[1]-self.point_a[1])/(self.point_b[0]-self.point_a[0])\n",
    "                   return m\n",
    "                   \n",
    "    def linesRelation(self,m1,m2):\n",
    "                   if m1==m2:\n",
    "                   \n",
    "                   return \"lines are parallel\"\n",
    "                      elif m1*m2==-1:\n",
    "                   return \"Lines are perpendicular\"\n",
    "                      else:\n",
    "                      return \"Lines are neither parallel nor perpendicular\"\n",
    "                   \n",
    "                   \n",
    "                   \n",
    "                   \n",
    "                   \n",
    "                   \n",
    "                   \n",
    "        "
   ]
  },
  {
   "cell_type": "code",
   "execution_count": 1,
   "id": "edae3743",
   "metadata": {},
   "outputs": [],
   "source": [
    "class Line():\n",
    "    def __init__(self, x1,y1,x2,y2):\n",
    "                \n",
    "        self.point_a = (x1,y1)\n",
    "        self.point_b = (x2,y2)\n",
    "    def length(self):\n",
    "        distance = ((self.point_b[0]-self.point_a[0])**2 + (self.point_b[1]-self.point_a[1])**2)**0.5    \n",
    "        return distance\n",
    "    def slope(self):\n",
    "        m  = (self.point_b[1]-self.point_a[1]) / (self.point_b[0]-self.point_a[0])\n",
    "        return m\n",
    "\n",
    "    def linesRelation(self,m1,m2):\n",
    "        if m1==m2:\n",
    "            return \"Lines are parallel\"\n",
    "        elif m1*m2==-1:\n",
    "            return \"Lines are perpendicular\"\n",
    "        else:\n",
    "            return \"Lines are niether parallel nor perpendicular\"\n",
    "        "
   ]
  },
  {
   "cell_type": "code",
   "execution_count": 2,
   "id": "2e6c3458",
   "metadata": {},
   "outputs": [],
   "source": [
    "l1 = Line(3,7,7,2)"
   ]
  },
  {
   "cell_type": "code",
   "execution_count": 3,
   "id": "e990a5c3",
   "metadata": {},
   "outputs": [
    {
     "data": {
      "text/plain": [
       "6.4031242374328485"
      ]
     },
     "execution_count": 3,
     "metadata": {},
     "output_type": "execute_result"
    }
   ],
   "source": [
    "l1.length()"
   ]
  },
  {
   "cell_type": "code",
   "execution_count": 4,
   "id": "f37fae4c",
   "metadata": {},
   "outputs": [],
   "source": [
    "m1 = l1.slope()"
   ]
  },
  {
   "cell_type": "code",
   "execution_count": 5,
   "id": "1c67be98",
   "metadata": {},
   "outputs": [],
   "source": [
    "l2 = Line(2,7,3,7)"
   ]
  },
  {
   "cell_type": "code",
   "execution_count": 6,
   "id": "e7023970",
   "metadata": {},
   "outputs": [
    {
     "data": {
      "text/plain": [
       "1.0"
      ]
     },
     "execution_count": 6,
     "metadata": {},
     "output_type": "execute_result"
    }
   ],
   "source": [
    "l2.length()"
   ]
  },
  {
   "cell_type": "code",
   "execution_count": 7,
   "id": "a9181ad5",
   "metadata": {},
   "outputs": [
    {
     "data": {
      "text/plain": [
       "0.0"
      ]
     },
     "execution_count": 7,
     "metadata": {},
     "output_type": "execute_result"
    }
   ],
   "source": [
    "l2.slope()"
   ]
  },
  {
   "cell_type": "code",
   "execution_count": 8,
   "id": "1764414f",
   "metadata": {},
   "outputs": [
    {
     "data": {
      "text/plain": [
       "'Lines are niether parallel nor perpendicular'"
      ]
     },
     "execution_count": 8,
     "metadata": {},
     "output_type": "execute_result"
    }
   ],
   "source": [
    "l1.linesRelation(l1.slope(),l2.slope())"
   ]
  },
  {
   "cell_type": "code",
   "execution_count": 9,
   "id": "33915738",
   "metadata": {},
   "outputs": [],
   "source": [
    "class CellPhone():\n",
    "    def __init__(self, model, make,battery):\n",
    "        self.model = model \n",
    "        self.make = make\n",
    "        self.battery = battery\n",
    "    def makecall(self):\n",
    "        print(f\"{self.model} is calling\")\n",
    "    def recvCall(self):\n",
    "        print(f\"{self.model} is recving call\")\n",
    "    def Game(self):\n",
    "        print(f\"{self.model} is playing game \")"
   ]
  },
  {
   "cell_type": "code",
   "execution_count": 10,
   "id": "a75f5ae7",
   "metadata": {},
   "outputs": [],
   "source": [
    "class Nokia(CellPhone):\n",
    "    def __init__(self,make, model, battery, camera, calc, radio):\n",
    "        self.camera = camera\n",
    "        self.calc = calc\n",
    "        self.radio = radio\n",
    "        super().__init__(make,model,battery)\n",
    "    def Game(self):\n",
    "        print(\"Snake game is running\")\n",
    "        "
   ]
  },
  {
   "cell_type": "code",
   "execution_count": 11,
   "id": "f891a372",
   "metadata": {},
   "outputs": [],
   "source": [
    "phone1 = Nokia(\"3310\",\"nokia\",\"12amp\", \"6mpxl\", 'simple',True)"
   ]
  },
  {
   "cell_type": "code",
   "execution_count": 12,
   "id": "f5622b2c",
   "metadata": {},
   "outputs": [
    {
     "name": "stdout",
     "output_type": "stream",
     "text": [
      "3310 is calling\n"
     ]
    }
   ],
   "source": [
    "phone1.makecall()"
   ]
  },
  {
   "cell_type": "code",
   "execution_count": 13,
   "id": "a61adc0b",
   "metadata": {},
   "outputs": [],
   "source": [
    "c1 = CellPhone(\"Smart\", \"Sony\", \"12amp\")"
   ]
  },
  {
   "cell_type": "code",
   "execution_count": 14,
   "id": "c56ed1b2",
   "metadata": {},
   "outputs": [
    {
     "name": "stdout",
     "output_type": "stream",
     "text": [
      "Smart is calling\n"
     ]
    }
   ],
   "source": [
    "c1.makecall()"
   ]
  },
  {
   "cell_type": "code",
   "execution_count": 15,
   "id": "a3c35bd6",
   "metadata": {},
   "outputs": [],
   "source": [
    "class SmartPhone(CellPhone):\n",
    "    def __init__(self,make, model, battery, camera, calc, radio):\n",
    "        self.camera = camera\n",
    "        self.calc = calc\n",
    "        self.radio = radio\n",
    "        super().__init__(make,model,battery)\n",
    "    def Game(self):\n",
    "        print(\"PUBG\")"
   ]
  },
  {
   "cell_type": "code",
   "execution_count": 16,
   "id": "140c102f",
   "metadata": {},
   "outputs": [],
   "source": [
    "sm1 = SmartPhone(\"Samsung\", \"Node8\",'20amp','48pxl',\"scienctific\", \"False\")"
   ]
  },
  {
   "cell_type": "code",
   "execution_count": 17,
   "id": "decb0363",
   "metadata": {},
   "outputs": [
    {
     "name": "stdout",
     "output_type": "stream",
     "text": [
      "PUBG\n"
     ]
    }
   ],
   "source": [
    "sm1.Game()"
   ]
  },
  {
   "cell_type": "code",
   "execution_count": 19,
   "id": "405a7104",
   "metadata": {},
   "outputs": [
    {
     "name": "stdout",
     "output_type": "stream",
     "text": [
      "Smart is playing game \n"
     ]
    }
   ],
   "source": [
    "c1.Game()"
   ]
  },
  {
   "cell_type": "code",
   "execution_count": 20,
   "id": "5f9f8d31",
   "metadata": {},
   "outputs": [
    {
     "name": "stdout",
     "output_type": "stream",
     "text": [
      "Snake game is running\n"
     ]
    }
   ],
   "source": [
    "phone1.Game()"
   ]
  },
  {
   "cell_type": "code",
   "execution_count": 22,
   "id": "e3017b70",
   "metadata": {},
   "outputs": [],
   "source": [
    "###object as attribute\n",
    "\n",
    "class Car():\n",
    "    def __init__(self,make, model, color, engine,wheels=4):\n",
    "        self.make = make\n",
    "        self.model = model\n",
    "        self.color = color\n",
    "        self.engine = engine\n",
    "    def run(self):\n",
    "        print(f\"Car{self.make}{self.model}{self.color}{self.engine} is running\")\n",
    "    def stop(self):\n",
    "        print(f\"Car{self.make}{self.model}{self.color}{self.engine} is stop\")\n",
    "    def fuelTank(self):\n",
    "        print(f\"Car{self.make}{self.model}{self.color}{self.engine} is filling fuel\")\n",
    "    "
   ]
  },
  {
   "cell_type": "code",
   "execution_count": 23,
   "id": "6e57f685",
   "metadata": {},
   "outputs": [],
   "source": [
    "class Battery():\n",
    "    def __init__(self,manuf, amp, cells, time):\n",
    "        self.manuf = manuf\n",
    "        self.amp =amp\n",
    "        self.time = time\n",
    "        self.cells = cells\n",
    "    "
   ]
  },
  {
   "cell_type": "code",
   "execution_count": 25,
   "id": "21409922",
   "metadata": {},
   "outputs": [],
   "source": [
    "class ElectricCar(Car):\n",
    "    def __init__(self,make, model, color, engine,wheels,manuf, amp, cells,time ):\n",
    "        super().__init__(make,model,color,engine,wheels)\n",
    "        self.battery = Battery(manuf, amp, cells,time )\n",
    "        \n",
    "        \n",
    "    def fuelTank(self):\n",
    "        print(f\"Car{self.make}{self.model}{self.color}{self.engine} has no fuel tank\")\n",
    "    "
   ]
  },
  {
   "cell_type": "code",
   "execution_count": 26,
   "id": "43da3e97",
   "metadata": {},
   "outputs": [],
   "source": [
    "e2 = ElectricCar(\"Tesla\",\"Audi\",\"White\",\"1300CC\", '4',\"AGS\",'200','27','3hour')"
   ]
  },
  {
   "cell_type": "code",
   "execution_count": 28,
   "id": "6998e248",
   "metadata": {},
   "outputs": [
    {
     "data": {
      "text/plain": [
       "'White'"
      ]
     },
     "execution_count": 28,
     "metadata": {},
     "output_type": "execute_result"
    }
   ],
   "source": [
    "e2.color"
   ]
  },
  {
   "cell_type": "code",
   "execution_count": 30,
   "id": "e6327553",
   "metadata": {},
   "outputs": [
    {
     "data": {
      "text/plain": [
       "'27'"
      ]
     },
     "execution_count": 30,
     "metadata": {},
     "output_type": "execute_result"
    }
   ],
   "source": [
    "e2.battery.cells"
   ]
  }
 ],
 "metadata": {
  "kernelspec": {
   "display_name": "Python 3",
   "language": "python",
   "name": "python3"
  },
  "language_info": {
   "codemirror_mode": {
    "name": "ipython",
    "version": 3
   },
   "file_extension": ".py",
   "mimetype": "text/x-python",
   "name": "python",
   "nbconvert_exporter": "python",
   "pygments_lexer": "ipython3",
   "version": "3.8.8"
  }
 },
 "nbformat": 4,
 "nbformat_minor": 5
}
